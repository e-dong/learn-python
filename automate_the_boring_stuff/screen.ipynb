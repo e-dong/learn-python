{
 "cells": [
  {
   "cell_type": "markdown",
   "id": "03f98842-c54d-480a-8f1f-a7fe552cbee5",
   "metadata": {},
   "source": [
    "# Running Python Code in Jupyter Lab\n",
    "\n",
    "_Note_: State can be reinitialized by restarting the jupyter kernel from the top bar below the file/launcher tabs."
   ]
  },
  {
   "cell_type": "markdown",
   "id": "647251d5-9450-44bb-86a5-2c735a9bb3c5",
   "metadata": {},
   "source": [
    "## Code directly in a Code Cell\n",
    "\n",
    "You can run code directly in a cell. This is good for sandboxing / quick prototyping that is not suitable for production"
   ]
  },
  {
   "cell_type": "code",
   "execution_count": 9,
   "id": "51dd11df-faa7-4db4-93e6-d2443c3dcf43",
   "metadata": {},
   "outputs": [
    {
     "name": "stdout",
     "output_type": "stream",
     "text": [
      " 100.00 (51/51)[===================================================>]\u001b[2k"
     ]
    }
   ],
   "source": [
    "# Press <ctrl + enter> or click the play button to execute this cell\n",
    "import time\n",
    "import sys\n",
    "\n",
    "progress = \"\"\n",
    "max = 51\n",
    "\n",
    "for i in range(max): \n",
    "  sys.stdout.write('\\033[2k')\n",
    "  part = i + 1\n",
    "  progress += \"=\"\n",
    "  remaining_space = max - part\n",
    "  time.sleep(0.1)\n",
    "  perc_str = \"{:.2f}\".format(round((part/max) * 100, 2))\n",
    "  frac_str = f\"({str(part)}/{max})\"\n",
    "  bar_str = \"[\" + progress + \">\" +  f\"{remaining_space * ' '}]\"\n",
    " \n",
    "  print(\"\\r\", \"{0:>6} {1}{2}\".format(perc_str, frac_str, bar_str), end=\"\")\n"
   ]
  },
  {
   "cell_type": "markdown",
   "id": "e036f4a2-1441-4744-9e97-df2688707d89",
   "metadata": {},
   "source": [
    "## Importing Code from a File\n",
    "We can organize our code by using 1 or more files. We organize our files at work, school, and life with folders/directories. We can apply a similar concept here. A python module is simply a python file or a folder with a `__init__.py` file. Take a look at the `screen` module."
   ]
  },
  {
   "cell_type": "code",
   "execution_count": 15,
   "id": "4b0e2e95-5af2-40ee-97cb-8f8c39ad7072",
   "metadata": {},
   "outputs": [],
   "source": [
    "# Try execute this cell multiple times, notice how this only executes once\n",
    "# This is also unexpected, usually we don't want code to execute during import\n",
    "from screen import progress_bar_v1"
   ]
  },
  {
   "cell_type": "markdown",
   "id": "3e2aa989-8aa5-4ded-b87f-f3ec49d04cf1",
   "metadata": {},
   "source": [
    "### Guarding Imports\n",
    "In `screen/progress_bar_v2.py`, There are two important changes. The has moved to a `main` function declared with `def` and we have this if statement:\n",
    "\n",
    "```python\n",
    "if __name__ == \"__main__\":\n",
    "    main()\n",
    "```\n",
    "\n",
    "The ensures imported code does not get executed. It also makes it clear that the entrypoint to this script is the `main` function."
   ]
  },
  {
   "cell_type": "code",
   "execution_count": 11,
   "id": "49756cd2-2ee8-46ca-973b-ab60a29e7c4b",
   "metadata": {},
   "outputs": [],
   "source": [
    "# After adding the guard, the code doesn't execute during import\n",
    "from screen import progress_bar_v2\n"
   ]
  },
  {
   "cell_type": "code",
   "execution_count": 12,
   "id": "95272ad8-3092-441f-9e32-63e2ccafb11f",
   "metadata": {},
   "outputs": [
    {
     "name": "stdout",
     "output_type": "stream",
     "text": [
      " 100.00 (51/51)[===================================================>]\u001b[2k"
     ]
    }
   ],
   "source": [
    "# We can now control when to execute the code via calling the main function\n",
    "progress_bar_v2.main()"
   ]
  },
  {
   "cell_type": "markdown",
   "id": "0c59cd05-10f0-4a1d-acd2-d3edee111f3c",
   "metadata": {},
   "source": [
    "## Executing Code with the Command Line\n",
    "In your favorite shell or terminal, you can execute the following.\n",
    "\n",
    "_Note: ! should be excluded on the terminal. This is special syntax for jupyter to execute a shell command._"
   ]
  },
  {
   "cell_type": "code",
   "execution_count": 13,
   "id": "e19f1f53-a5b9-4c1f-81a5-162f4811fa2d",
   "metadata": {},
   "outputs": [
    {
     "name": "stdout",
     "output_type": "stream",
     "text": [
      " 100.00 (51/51)[===================================================>]\u001b[2k"
     ]
    }
   ],
   "source": [
    "# We can also use the command line\n",
    "! python screen/progress_bar_v2.py"
   ]
  },
  {
   "cell_type": "code",
   "execution_count": 14,
   "id": "050b39b6-86b3-4078-8d7b-d4bb3c206bee",
   "metadata": {},
   "outputs": [
    {
     "name": "stdout",
     "output_type": "stream",
     "text": [
      " 100.00 (51/51)[===================================================>]\u001b[2k"
     ]
    }
   ],
   "source": [
    "# We can invoke using module syntax on the command line\n",
    "! python -m screen.progress_bar_v2"
   ]
  },
  {
   "cell_type": "code",
   "execution_count": null,
   "id": "8e02d43f-3118-45c1-9a9b-3e7553684540",
   "metadata": {},
   "outputs": [],
   "source": []
  }
 ],
 "metadata": {
  "kernelspec": {
   "display_name": "Python 3 (ipykernel)",
   "language": "python",
   "name": "python3"
  },
  "language_info": {
   "codemirror_mode": {
    "name": "ipython",
    "version": 3
   },
   "file_extension": ".py",
   "mimetype": "text/x-python",
   "name": "python",
   "nbconvert_exporter": "python",
   "pygments_lexer": "ipython3",
   "version": "3.11.8"
  }
 },
 "nbformat": 4,
 "nbformat_minor": 5
}
