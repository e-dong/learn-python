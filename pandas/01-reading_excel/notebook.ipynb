{
 "cells": [
  {
   "cell_type": "markdown",
   "id": "ea74468a-e2ac-4c0b-babd-51b4c30389cc",
   "metadata": {},
   "source": [
    "# Reading Data from an Excel Document\n",
    "\n",
    "https://pandas.pydata.org/docs/getting_started/comparison/comparison_with_spreadsheets.html#compare-with-spreadsheets\n",
    "\n",
    "\n",
    "\n",
    "\n"
   ]
  },
  {
   "cell_type": "code",
   "execution_count": null,
   "id": "8bfa8a20",
   "metadata": {},
   "outputs": [],
   "source": [
    "# We will also need the openpyl library\n",
    "! pip install openpyxl"
   ]
  },
  {
   "cell_type": "code",
   "execution_count": 4,
   "id": "2e4547a2-4583-4b3c-915c-777fbfaa997d",
   "metadata": {},
   "outputs": [],
   "source": [
    "# import the pandas module into your code\n",
    "import pandas as pd"
   ]
  },
  {
   "cell_type": "code",
   "execution_count": 9,
   "id": "9fe64921",
   "metadata": {},
   "outputs": [
    {
     "name": "stdout",
     "output_type": "stream",
     "text": [
      "  First Name Last Name                          Address  Phone Number\n",
      "0       John       Doe  123 Planet drive, Pittsburgh PA  123-345-3988\n",
      "1       Jane       Doe    3852 Cookie St. Pittsburgh PA  213-324-2349\n"
     ]
    }
   ],
   "source": [
    "# The following reads the excel spreadsheet into a DataFrame and stores it\n",
    "# in a variable called \"df\"\n",
    "df = pd.read_excel('./data.xlsx')\n",
    "print(df)\n"
   ]
  }
 ],
 "metadata": {
  "kernelspec": {
   "display_name": "Python 3 (ipykernel)",
   "language": "python",
   "name": "python3"
  },
  "language_info": {
   "codemirror_mode": {
    "name": "ipython",
    "version": 3
   },
   "file_extension": ".py",
   "mimetype": "text/x-python",
   "name": "python",
   "nbconvert_exporter": "python",
   "pygments_lexer": "ipython3",
   "version": "3.11.8"
  }
 },
 "nbformat": 4,
 "nbformat_minor": 5
}
