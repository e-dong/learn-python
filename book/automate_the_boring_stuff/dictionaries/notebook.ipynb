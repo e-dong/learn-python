{
 "cells": [
  {
   "cell_type": "markdown",
   "id": "b72714d4-9b6a-4635-bc3f-b4036c6df794",
   "metadata": {},
   "source": [
    "# Python Dictionaries\n",
    "\n",
    "Reference: https://docs.python.org/3/library/stdtypes.html#typesmapping\n"
   ]
  },
  {
   "cell_type": "markdown",
   "id": "9e0942f8-b957-4414-8742-ffad3553785c",
   "metadata": {},
   "source": [
    "## Dict Methods\n",
    "\n",
    "Notice how the keys, values, and items method does not return a `list` type. These values are known as `view` objects, they contain a subset of list methods.\n",
    "\n",
    "See: https://docs.python.org/3/library/stdtypes.html#dict-views\n"
   ]
  },
  {
   "cell_type": "code",
   "execution_count": 1,
   "id": "93e21e04-606d-4731-aac6-e95d27bcdef8",
   "metadata": {},
   "outputs": [
    {
     "name": "stdout",
     "output_type": "stream",
     "text": [
      "dict_keys(['color', 'age'])\n",
      "dict_values(['red', 42])\n",
      "dict_items([('color', 'red'), ('age', 42)])\n"
     ]
    }
   ],
   "source": [
    "spam = {'color': 'red', 'age': 42 }\n",
    "\n",
    "print(spam.keys())\n",
    "print(spam.values())\n",
    "print(spam.items())\n"
   ]
  },
  {
   "cell_type": "markdown",
   "id": "944369a2-edce-487f-b429-e6d1b64d58f2",
   "metadata": {},
   "source": [
    "### Tuple Unpacking with items()"
   ]
  },
  {
   "cell_type": "code",
   "execution_count": 2,
   "id": "fe6b80bd-f8bd-4e94-9961-387552f19581",
   "metadata": {},
   "outputs": [
    {
     "name": "stdout",
     "output_type": "stream",
     "text": [
      "('color', 'red')\n",
      "key: color\n",
      "value: red\n",
      "('age', 42)\n",
      "key: age\n",
      "value: 42\n"
     ]
    }
   ],
   "source": [
    "for item in spam.items():\n",
    "    print(item)\n",
    "    print(f'key: {item[0]}')\n",
    "    print(f'value: {item[1]}')"
   ]
  },
  {
   "cell_type": "code",
   "execution_count": 3,
   "id": "25983ee4-3fbb-42d9-a5b5-5e7825eda9c4",
   "metadata": {},
   "outputs": [
    {
     "name": "stdout",
     "output_type": "stream",
     "text": [
      "key: color\n",
      "value: red\n",
      "key: age\n",
      "value: 42\n"
     ]
    }
   ],
   "source": [
    "for key, value in spam.items():\n",
    "    print(f'key: {key}')\n",
    "    print(f'value: {value}')\n",
    "    "
   ]
  },
  {
   "cell_type": "markdown",
   "id": "aa4a312f-b238-45e5-a33e-ec6d9009bac8",
   "metadata": {},
   "source": [
    "## Beware of using Mutable Objects as default arguments\n",
    "\n",
    "https://pylint.readthedocs.io/en/latest/user_guide/messages/warning/dangerous-default-value.html\n",
    "\n",
    "This creates an unexpected side effect of arguments containing state from a previous invocation."
   ]
  },
  {
   "cell_type": "code",
   "execution_count": 4,
   "id": "239fe40c-69a5-4673-a650-247b2270a9c1",
   "metadata": {},
   "outputs": [],
   "source": [
    "def add_item_to_list(num, num_list=[]):\n",
    "    num_list.append(num)\n",
    "    return num_list"
   ]
  },
  {
   "cell_type": "code",
   "execution_count": 5,
   "id": "a645c446-d4e2-45bf-bbd5-c11761a27feb",
   "metadata": {},
   "outputs": [
    {
     "data": {
      "text/plain": [
       "[1, 2, 3]"
      ]
     },
     "execution_count": 5,
     "metadata": {},
     "output_type": "execute_result"
    }
   ],
   "source": [
    "add_item_to_list(3, [1,2])\n"
   ]
  },
  {
   "cell_type": "code",
   "execution_count": 6,
   "id": "3cff8eaf-a3d3-4c21-a0b4-88c53cfdcd7c",
   "metadata": {},
   "outputs": [
    {
     "data": {
      "text/plain": [
       "[1]"
      ]
     },
     "execution_count": 6,
     "metadata": {},
     "output_type": "execute_result"
    }
   ],
   "source": [
    "add_item_to_list(1)"
   ]
  },
  {
   "cell_type": "code",
   "execution_count": 7,
   "id": "fdc7f40e-6360-488b-91c3-c182cb487255",
   "metadata": {},
   "outputs": [
    {
     "data": {
      "text/plain": [
       "[1, 1]"
      ]
     },
     "execution_count": 7,
     "metadata": {},
     "output_type": "execute_result"
    }
   ],
   "source": [
    "add_item_to_list(1)"
   ]
  },
  {
   "cell_type": "markdown",
   "id": "e14f822e-1ba4-4aad-8de9-e05bfc375951",
   "metadata": {},
   "source": [
    "### The Correct Code\n",
    "\n",
    "The default value should be set to the built-in constant `None`"
   ]
  },
  {
   "cell_type": "code",
   "execution_count": 9,
   "id": "aa7ab019-26cc-466f-8c77-8f6265ae558e",
   "metadata": {},
   "outputs": [],
   "source": [
    "def add_item_to_list(num, num_list=None):\n",
    "    if num_list is None:\n",
    "        num_list = []\n",
    "    num_list.append(num)\n",
    "    return num_list"
   ]
  },
  {
   "cell_type": "code",
   "execution_count": 11,
   "id": "67fd97c2-49c7-4e6e-85fc-828e84981a77",
   "metadata": {},
   "outputs": [
    {
     "data": {
      "text/plain": [
       "[1, 2, 3]"
      ]
     },
     "execution_count": 11,
     "metadata": {},
     "output_type": "execute_result"
    }
   ],
   "source": [
    "add_item_to_list(3, [1,2])"
   ]
  },
  {
   "cell_type": "code",
   "execution_count": 12,
   "id": "6c83c1e0-4fa0-41b9-a14e-4f6a4bc2701c",
   "metadata": {},
   "outputs": [
    {
     "data": {
      "text/plain": [
       "[1]"
      ]
     },
     "execution_count": 12,
     "metadata": {},
     "output_type": "execute_result"
    }
   ],
   "source": [
    "add_item_to_list(1)"
   ]
  },
  {
   "cell_type": "code",
   "execution_count": 13,
   "id": "249fdfaa-69b6-45e4-bdd9-83579274441c",
   "metadata": {},
   "outputs": [
    {
     "data": {
      "text/plain": [
       "[1]"
      ]
     },
     "execution_count": 13,
     "metadata": {},
     "output_type": "execute_result"
    }
   ],
   "source": [
    "add_item_to_list(1)"
   ]
  },
  {
   "cell_type": "markdown",
   "id": "f7136016-3175-4bf0-b9b2-e8738884f5f3",
   "metadata": {},
   "source": [
    "## Comprehensions"
   ]
  },
  {
   "cell_type": "code",
   "execution_count": 2,
   "id": "27def3a0-8f39-414e-b442-f4a6b210a0b2",
   "metadata": {},
   "outputs": [],
   "source": [
    "test_list = [ i for i in range(8) ]"
   ]
  },
  {
   "cell_type": "code",
   "execution_count": 4,
   "id": "a03590b7-8d23-4bfd-8975-6510bed83668",
   "metadata": {},
   "outputs": [
    {
     "name": "stdout",
     "output_type": "stream",
     "text": [
      "[0, 1, 2, 3, 4, 5, 6, 7]\n"
     ]
    }
   ],
   "source": [
    "print(test_list)\n"
   ]
  },
  {
   "cell_type": "code",
   "execution_count": 5,
   "id": "4aaa0eea-bc52-44a6-87ef-fcb3a4b15a0a",
   "metadata": {},
   "outputs": [
    {
     "data": {
      "text/plain": [
       "[0, 1, 4, 9, 16, 25, 36, 49]"
      ]
     },
     "execution_count": 5,
     "metadata": {},
     "output_type": "execute_result"
    }
   ],
   "source": [
    "[ item**2 for item in test_list ]"
   ]
  },
  {
   "cell_type": "code",
   "execution_count": 6,
   "id": "399cb419-c8c1-4529-9fb7-4249bda3a21e",
   "metadata": {},
   "outputs": [
    {
     "data": {
      "text/plain": [
       "[0, 1, 2]"
      ]
     },
     "execution_count": 6,
     "metadata": {},
     "output_type": "execute_result"
    }
   ],
   "source": [
    "[ item for item in test_list if item < 3 ]"
   ]
  },
  {
   "cell_type": "code",
   "execution_count": 7,
   "id": "72a9b9bb-1bfb-4db9-b5c9-f33431425243",
   "metadata": {},
   "outputs": [
    {
     "data": {
      "text/plain": [
       "{0: 0, 1: 1, 2: 4, 3: 9, 4: 16, 5: 25, 6: 36, 7: 49}"
      ]
     },
     "execution_count": 7,
     "metadata": {},
     "output_type": "execute_result"
    }
   ],
   "source": [
    "{ i: i**2 for i in range(8) }"
   ]
  },
  {
   "cell_type": "code",
   "execution_count": 9,
   "id": "395fcf8b-1bd0-4e4f-b55f-73b33c7db0fb",
   "metadata": {},
   "outputs": [
    {
     "data": {
      "text/plain": [
       "{0: 0, 1: 1, 2: 4, 3: 9, 4: 16}"
      ]
     },
     "execution_count": 9,
     "metadata": {},
     "output_type": "execute_result"
    }
   ],
   "source": [
    "{ i: i**2 for i in test_list if i**2 < 25 }"
   ]
  }
 ],
 "metadata": {
  "kernelspec": {
   "display_name": "Python 3 (ipykernel)",
   "language": "python",
   "name": "python3"
  },
  "language_info": {
   "codemirror_mode": {
    "name": "ipython",
    "version": 3
   },
   "file_extension": ".py",
   "mimetype": "text/x-python",
   "name": "python",
   "nbconvert_exporter": "python",
   "pygments_lexer": "ipython3",
   "version": "3.12.3"
  }
 },
 "nbformat": 4,
 "nbformat_minor": 5
}
