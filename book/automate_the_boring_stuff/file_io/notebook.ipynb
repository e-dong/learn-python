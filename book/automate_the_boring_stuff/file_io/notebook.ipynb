{
 "cells": [
  {
   "cell_type": "markdown",
   "id": "91a1d864-bd47-467c-8622-ca4fe02385a2",
   "metadata": {},
   "source": [
    "# Python File I/O (Input/Output)\n",
    "\n",
    "This chapter shows files as a means of persistent storage. Database use files behind the scene to store data. Single player video games use files to save progress. Machine learning models can be saved as a file to be deployed."
   ]
  },
  {
   "cell_type": "markdown",
   "id": "7b1fff17-d365-4290-a306-0aea810f3142",
   "metadata": {},
   "source": [
    "## working with Paths\n",
    "It is recommended to use `pathlib` rather than `os.path` because it is cross platform. We work with the `Path` object rather than plain strings."
   ]
  },
  {
   "cell_type": "markdown",
   "id": "48031105-188d-4987-b007-1b0f51ca3e15",
   "metadata": {},
   "source": [
    "## Load Data from a JSON File"
   ]
  },
  {
   "cell_type": "markdown",
   "id": "afe48de8-b379-4f07-a06e-3a28d3e7a197",
   "metadata": {},
   "source": [
    "The following will open the data.json file and convert it into list of dictionaries.\n",
    "```json\n",
    "[\n",
    "  {\n",
    "    \"name\": \"Zophie\", \n",
    "    \"desc\": \"chubby\"\n",
    "  },\n",
    "  {\n",
    "    \"name\": \"Pooka\",\n",
    "    \"desc\": \"fluffy\"\n",
    "  }\n",
    "]\n",
    "```\n"
   ]
  },
  {
   "cell_type": "code",
   "execution_count": 2,
   "id": "4f8906a2-a235-485a-bf00-75dae7cdf71b",
   "metadata": {},
   "outputs": [],
   "source": [
    "from cats.data import load_data"
   ]
  },
  {
   "cell_type": "code",
   "execution_count": 3,
   "id": "7c488dd7-f840-4f09-a98f-188c1f9b5bee",
   "metadata": {},
   "outputs": [],
   "source": [
    "cat_list = load_data()"
   ]
  },
  {
   "cell_type": "code",
   "execution_count": 3,
   "id": "96a41811-0de4-4400-9bb7-3a9e830ff5e7",
   "metadata": {},
   "outputs": [
    {
     "data": {
      "text/plain": [
       "[{'name': 'Zophie', 'desc': 'chubby'}, {'name': 'Pooka', 'desc': 'fluffy'}]"
      ]
     },
     "execution_count": 3,
     "metadata": {},
     "output_type": "execute_result"
    }
   ],
   "source": [
    "cat_list"
   ]
  },
  {
   "cell_type": "code",
   "execution_count": 4,
   "id": "62a09857-df18-45d4-ac9a-809014d9e70f",
   "metadata": {},
   "outputs": [
    {
     "data": {
      "text/plain": [
       "'Zophie'"
      ]
     },
     "execution_count": 4,
     "metadata": {},
     "output_type": "execute_result"
    }
   ],
   "source": [
    "cat_list[0]['name']"
   ]
  }
 ],
 "metadata": {
  "kernelspec": {
   "display_name": "Python 3 (ipykernel)",
   "language": "python",
   "name": "python3"
  },
  "language_info": {
   "codemirror_mode": {
    "name": "ipython",
    "version": 3
   },
   "file_extension": ".py",
   "mimetype": "text/x-python",
   "name": "python",
   "nbconvert_exporter": "python",
   "pygments_lexer": "ipython3",
   "version": "3.12.4"
  }
 },
 "nbformat": 4,
 "nbformat_minor": 5
}
